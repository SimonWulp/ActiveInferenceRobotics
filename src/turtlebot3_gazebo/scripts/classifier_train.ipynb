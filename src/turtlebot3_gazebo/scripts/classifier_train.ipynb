{
 "cells": [
  {
   "cell_type": "code",
   "execution_count": 1,
   "metadata": {},
   "outputs": [],
   "source": [
    "import torch\n",
    "import matplotlib.pyplot as plt\n",
    "import torchvision\n",
    "from torchvision.transforms import Resize\n",
    "from torchvision import datasets, transforms\n",
    "from torch.utils.data import DataLoader, Dataset\n",
    "import torch.nn as nn\n",
    "import torch.nn.functional as F\n",
    "import torch.optim as optim\n",
    "from nets import Classifier\n",
    "import pickle\n",
    "import numpy as np"
   ]
  },
  {
   "cell_type": "code",
   "execution_count": 2,
   "metadata": {},
   "outputs": [],
   "source": [
    "class ImageDataSet(Dataset):\n",
    "    def __init__(self, x, y, transform=None):\n",
    "        self.x = x\n",
    "        self.y = y\n",
    "        self.transform = transform\n",
    "\n",
    "    def __len__(self):\n",
    "        return len(self.x)\n",
    "\n",
    "    def __getitem__(self, idx):\n",
    "        if torch.is_tensor(idx):\n",
    "            idx = idx.tolist()\n",
    "\n",
    "        x = self.x[idx]\n",
    "        y = self.y[idx]\n",
    "\n",
    "        if self.transform:\n",
    "            x = self.transform(x)\n",
    "\n",
    "        return x, y"
   ]
  },
  {
   "cell_type": "code",
   "execution_count": 3,
   "metadata": {},
   "outputs": [],
   "source": [
    "def shuffle_and_split(data, ratio):\n",
    "    shuffle_idxs = torch.randperm(data[0].shape[0])\n",
    "\n",
    "    img_shuffled = data[0][shuffle_idxs]\n",
    "    label_shuffled = data[1][shuffle_idxs]\n",
    "\n",
    "    split_idx = int(ratio * data[0].shape[0])\n",
    "\n",
    "    train = (img_shuffled[:split_idx], label_shuffled[:split_idx])\n",
    "    test = (img_shuffled[split_idx:], label_shuffled[split_idx:])\n",
    "\n",
    "    return train, test"
   ]
  },
  {
   "cell_type": "code",
   "execution_count": 4,
   "metadata": {},
   "outputs": [],
   "source": [
    "with open(\"/home/simon/catkin_ws/src/turtlebot3_gazebo/scripts/data/shapes_fixed_rgb8_1_10k_norm_np.pkl\", 'rb') as f:\n",
    "    squares_pose, squares_img = pickle.load(f)\n",
    "with open(\"/home/simon/catkin_ws/src/turtlebot3_gazebo/scripts/data/shapes_dif_fixed_rgb8_1_10k_norm_np.pkl\", 'rb') as f:\n",
    "    circles_pose, circles_img = pickle.load(f)\n",
    "\n",
    "squares_label = np.zeros(squares_img.shape[0])\n",
    "circles_label = np.ones(circles_img.shape[0])\n",
    "\n",
    "img = np.append(squares_img, circles_img, 0)\n",
    "label = np.append(squares_label, circles_label)\n",
    "data = (img, label)\n",
    "\n",
    "train, test = shuffle_and_split(data, 0.7)\n",
    "\n",
    "classes = ('squares', 'circles')"
   ]
  },
  {
   "cell_type": "code",
   "execution_count": 5,
   "metadata": {},
   "outputs": [],
   "source": [
    "batch_size = 100\n",
    "\n",
    "train_set = ImageDataSet(torch.tensor(train[0]).float(), torch.tensor(train[1]).float())\n",
    "test_set = ImageDataSet(torch.tensor(test[0]).float(), torch.tensor(test[1]).float())\n",
    "\n",
    "train_loader = DataLoader(train_set, batch_size=batch_size, shuffle=True)\n",
    "test_loader = DataLoader(test_set, batch_size=int(batch_size/10), shuffle=True)"
   ]
  },
  {
   "cell_type": "code",
   "execution_count": 30,
   "metadata": {},
   "outputs": [
    {
     "name": "stdout",
     "output_type": "stream",
     "text": [
      "cuda:0\n",
      "EPOCH 1, TRAIN LOSS: 0.691, TEST LOSS: 0.687\n",
      "EPOCH 2, TRAIN LOSS: 0.674, TEST LOSS: 0.649\n",
      "EPOCH 3, TRAIN LOSS: 0.487, TEST LOSS: 0.207\n",
      "EPOCH 4, TRAIN LOSS: 0.078, TEST LOSS: 0.027\n",
      "EPOCH 5, TRAIN LOSS: 0.013, TEST LOSS: 0.006\n",
      "EPOCH 6, TRAIN LOSS: 0.006, TEST LOSS: 0.003\n",
      "EPOCH 7, TRAIN LOSS: 0.004, TEST LOSS: 0.002\n",
      "EPOCH 8, TRAIN LOSS: 0.002, TEST LOSS: 0.001\n",
      "EPOCH 9, TRAIN LOSS: 0.002, TEST LOSS: 0.001\n",
      "EPOCH 10, TRAIN LOSS: 0.001, TEST LOSS: 0.001\n",
      "EPOCH 11, TRAIN LOSS: 0.001, TEST LOSS: 0.001\n",
      "EPOCH 12, TRAIN LOSS: 0.001, TEST LOSS: 0.001\n",
      "EPOCH 13, TRAIN LOSS: 0.001, TEST LOSS: 0.001\n",
      "EPOCH 14, TRAIN LOSS: 0.001, TEST LOSS: 0.000\n",
      "EPOCH 15, TRAIN LOSS: 0.001, TEST LOSS: 0.000\n",
      "EPOCH 16, TRAIN LOSS: 0.001, TEST LOSS: 0.000\n",
      "EPOCH 17, TRAIN LOSS: 0.000, TEST LOSS: 0.000\n",
      "EPOCH 18, TRAIN LOSS: 0.000, TEST LOSS: 0.000\n",
      "EPOCH 19, TRAIN LOSS: 0.000, TEST LOSS: 0.000\n",
      "EPOCH 20, TRAIN LOSS: 0.000, TEST LOSS: 0.000\n",
      "EPOCH 21, TRAIN LOSS: 0.000, TEST LOSS: 0.000\n",
      "EPOCH 22, TRAIN LOSS: 0.000, TEST LOSS: 0.000\n",
      "EPOCH 23, TRAIN LOSS: 0.000, TEST LOSS: 0.000\n",
      "EPOCH 24, TRAIN LOSS: 0.000, TEST LOSS: 0.000\n",
      "EPOCH 25, TRAIN LOSS: 0.000, TEST LOSS: 0.000\n",
      "EPOCH 26, TRAIN LOSS: 0.000, TEST LOSS: 0.000\n",
      "EPOCH 27, TRAIN LOSS: 0.000, TEST LOSS: 0.000\n",
      "EPOCH 28, TRAIN LOSS: 0.000, TEST LOSS: 0.000\n",
      "EPOCH 29, TRAIN LOSS: 0.000, TEST LOSS: 0.000\n",
      "EPOCH 30, TRAIN LOSS: 0.000, TEST LOSS: 0.000\n",
      "EPOCH 31, TRAIN LOSS: 0.000, TEST LOSS: 0.000\n",
      "EPOCH 32, TRAIN LOSS: 0.000, TEST LOSS: 0.000\n",
      "EPOCH 33, TRAIN LOSS: 0.000, TEST LOSS: 0.000\n",
      "EPOCH 34, TRAIN LOSS: 0.000, TEST LOSS: 0.000\n",
      "EPOCH 35, TRAIN LOSS: 0.000, TEST LOSS: 0.000\n",
      "EPOCH 36, TRAIN LOSS: 0.000, TEST LOSS: 0.000\n",
      "EPOCH 37, TRAIN LOSS: 0.000, TEST LOSS: 0.000\n",
      "EPOCH 38, TRAIN LOSS: 0.000, TEST LOSS: 0.000\n",
      "EPOCH 39, TRAIN LOSS: 0.000, TEST LOSS: 0.000\n",
      "EPOCH 40, TRAIN LOSS: 0.000, TEST LOSS: 0.000\n",
      "EPOCH 41, TRAIN LOSS: 0.000, TEST LOSS: 0.000\n",
      "EPOCH 42, TRAIN LOSS: 0.000, TEST LOSS: 0.000\n",
      "EPOCH 43, TRAIN LOSS: 0.000, TEST LOSS: 0.000\n",
      "EPOCH 44, TRAIN LOSS: 0.000, TEST LOSS: 0.000\n",
      "EPOCH 45, TRAIN LOSS: 0.000, TEST LOSS: 0.000\n",
      "EPOCH 46, TRAIN LOSS: 0.000, TEST LOSS: 0.000\n",
      "EPOCH 47, TRAIN LOSS: 0.000, TEST LOSS: 0.000\n",
      "EPOCH 48, TRAIN LOSS: 0.000, TEST LOSS: 0.000\n",
      "EPOCH 49, TRAIN LOSS: 0.000, TEST LOSS: 0.000\n",
      "EPOCH 50, TRAIN LOSS: 0.000, TEST LOSS: 0.000\n",
      "EPOCH 51, TRAIN LOSS: 0.000, TEST LOSS: 0.000\n",
      "EPOCH 52, TRAIN LOSS: 0.000, TEST LOSS: 0.000\n",
      "EPOCH 53, TRAIN LOSS: 0.000, TEST LOSS: 0.000\n",
      "EPOCH 54, TRAIN LOSS: 0.000, TEST LOSS: 0.000\n",
      "EPOCH 55, TRAIN LOSS: 0.000, TEST LOSS: 0.000\n",
      "EPOCH 56, TRAIN LOSS: 0.000, TEST LOSS: 0.000\n",
      "EPOCH 57, TRAIN LOSS: 0.000, TEST LOSS: 0.000\n",
      "EPOCH 58, TRAIN LOSS: 0.000, TEST LOSS: 0.000\n",
      "EPOCH 59, TRAIN LOSS: 0.000, TEST LOSS: 0.000\n",
      "EPOCH 60, TRAIN LOSS: 0.000, TEST LOSS: 0.000\n",
      "EPOCH 61, TRAIN LOSS: 0.000, TEST LOSS: 0.000\n",
      "EPOCH 62, TRAIN LOSS: 0.000, TEST LOSS: 0.000\n",
      "EPOCH 63, TRAIN LOSS: 0.000, TEST LOSS: 0.000\n",
      "EPOCH 64, TRAIN LOSS: 0.000, TEST LOSS: 0.000\n",
      "EPOCH 65, TRAIN LOSS: 0.000, TEST LOSS: 0.000\n",
      "EPOCH 66, TRAIN LOSS: 0.000, TEST LOSS: 0.000\n",
      "EPOCH 67, TRAIN LOSS: 0.000, TEST LOSS: 0.000\n",
      "EPOCH 68, TRAIN LOSS: 0.000, TEST LOSS: 0.000\n",
      "EPOCH 69, TRAIN LOSS: 0.000, TEST LOSS: 0.000\n",
      "EPOCH 70, TRAIN LOSS: 0.000, TEST LOSS: 0.000\n",
      "EPOCH 71, TRAIN LOSS: 0.000, TEST LOSS: 0.000\n",
      "EPOCH 72, TRAIN LOSS: 0.000, TEST LOSS: 0.000\n",
      "EPOCH 73, TRAIN LOSS: 0.000, TEST LOSS: 0.000\n",
      "EPOCH 74, TRAIN LOSS: 0.000, TEST LOSS: 0.000\n",
      "EPOCH 75, TRAIN LOSS: 0.000, TEST LOSS: 0.000\n",
      "EPOCH 76, TRAIN LOSS: 0.000, TEST LOSS: 0.000\n",
      "EPOCH 77, TRAIN LOSS: 0.000, TEST LOSS: 0.000\n",
      "EPOCH 78, TRAIN LOSS: 0.000, TEST LOSS: 0.000\n",
      "EPOCH 79, TRAIN LOSS: 0.000, TEST LOSS: 0.000\n",
      "EPOCH 80, TRAIN LOSS: 0.000, TEST LOSS: 0.000\n",
      "EPOCH 81, TRAIN LOSS: 0.000, TEST LOSS: 0.000\n",
      "EPOCH 82, TRAIN LOSS: 0.000, TEST LOSS: 0.000\n",
      "EPOCH 83, TRAIN LOSS: 0.000, TEST LOSS: 0.000\n",
      "EPOCH 84, TRAIN LOSS: 0.000, TEST LOSS: 0.000\n",
      "EPOCH 85, TRAIN LOSS: 0.000, TEST LOSS: 0.000\n",
      "EPOCH 86, TRAIN LOSS: 0.000, TEST LOSS: 0.000\n",
      "EPOCH 87, TRAIN LOSS: 0.000, TEST LOSS: 0.000\n",
      "EPOCH 88, TRAIN LOSS: 0.000, TEST LOSS: 0.000\n",
      "EPOCH 89, TRAIN LOSS: 0.000, TEST LOSS: 0.000\n",
      "EPOCH 90, TRAIN LOSS: 0.000, TEST LOSS: 0.000\n",
      "EPOCH 91, TRAIN LOSS: 0.000, TEST LOSS: 0.000\n",
      "EPOCH 92, TRAIN LOSS: 0.000, TEST LOSS: 0.000\n",
      "EPOCH 93, TRAIN LOSS: 0.000, TEST LOSS: 0.000\n",
      "EPOCH 94, TRAIN LOSS: 0.000, TEST LOSS: 0.000\n",
      "EPOCH 95, TRAIN LOSS: 0.000, TEST LOSS: 0.000\n",
      "EPOCH 96, TRAIN LOSS: 0.000, TEST LOSS: 0.000\n",
      "EPOCH 97, TRAIN LOSS: 0.000, TEST LOSS: 0.000\n",
      "EPOCH 98, TRAIN LOSS: 0.000, TEST LOSS: 0.000\n",
      "EPOCH 99, TRAIN LOSS: 0.000, TEST LOSS: 0.000\n",
      "EPOCH 100, TRAIN LOSS: 0.000, TEST LOSS: 0.000\n"
     ]
    }
   ],
   "source": [
    "device = torch.device('cuda:0' if torch.cuda.is_available() else 'cpu')\n",
    "\n",
    "print(device)\n",
    "\n",
    "net = Classifier()\n",
    "net.to(device)\n",
    "criterion = nn.CrossEntropyLoss()\n",
    "optimizer = optim.SGD(net.parameters(), lr=0.001, momentum=0.9)\n",
    "\n",
    "train_loss = []\n",
    "test_loss = []\n",
    "\n",
    "for epoch in range(100):  # loop over the dataset multiple times\n",
    "    net.train()\n",
    "    train_loss_batch = []\n",
    "    for i, data in enumerate(train_loader):\n",
    "        # get the inputs; data is a list of [inputs, labels]\n",
    "        inputs, labels = data[0].to(device), data[1].to(device).to(torch.int64)\n",
    "\n",
    "        # zero the parameter gradients\n",
    "        optimizer.zero_grad()\n",
    "\n",
    "        # forward + backward + optimize\n",
    "        outputs = net(inputs)\n",
    "        loss = criterion(outputs, labels)\n",
    "        loss.backward()\n",
    "        optimizer.step()\n",
    "\n",
    "        # print statistics\n",
    "        train_loss_batch.append(loss.item())\n",
    "\n",
    "    if epoch%1==0:\n",
    "        net.eval()\n",
    "        test_loss_batch = []\n",
    "        for i, data in enumerate(test_loader):\n",
    "            inputs, labels = data[0].to(device), data[1].to(device).to(torch.int64)\n",
    "\n",
    "            optimizer.zero_grad()  # zero the gradient buffers\n",
    "            output = net(inputs)\n",
    "            loss = criterion(output, labels)\n",
    "\n",
    "            test_loss_batch.append(loss.item())\n",
    "        \n",
    "        test_loss.append(np.mean(test_loss_batch))\n",
    "\n",
    "    train_loss.append(np.mean(train_loss_batch))\n",
    "    print('EPOCH {}, TRAIN LOSS: {:.3f}, TEST LOSS: {:.3f}'.format(epoch+1, train_loss[-1], test_loss[-1]))"
   ]
  },
  {
   "cell_type": "code",
   "execution_count": 7,
   "metadata": {},
   "outputs": [],
   "source": [
    "torch.save(net.state_dict(), \"context_classifier_2_100e.pt\")"
   ]
  },
  {
   "cell_type": "code",
   "execution_count": 9,
   "metadata": {},
   "outputs": [
    {
     "name": "stdout",
     "output_type": "stream",
     "text": [
      "cuda:0\n"
     ]
    },
    {
     "data": {
      "text/plain": [
       "<All keys matched successfully>"
      ]
     },
     "execution_count": 9,
     "metadata": {},
     "output_type": "execute_result"
    }
   ],
   "source": [
    "device = torch.device('cuda:0' if torch.cuda.is_available() else 'cpu')\n",
    "\n",
    "print(device)\n",
    "\n",
    "net = Classifier()\n",
    "net.to(device)\n",
    "net.load_state_dict(torch.load(\"/home/simon/catkin_ws/src/turtlebot3_gazebo/scripts/trained_conv_nets/classifier_1_100e.pt\"))"
   ]
  },
  {
   "cell_type": "code",
   "execution_count": 10,
   "metadata": {},
   "outputs": [
    {
     "data": {
      "text/plain": [
       "8.683333333333334"
      ]
     },
     "execution_count": 10,
     "metadata": {},
     "output_type": "execute_result"
    }
   ],
   "source": [
    "correct = 0\n",
    "total = 0\n",
    "\n",
    "with torch.no_grad():\n",
    "    for img, label in test_loader:\n",
    "        out = net(img.to(device)).cpu()\n",
    "        _, pred = torch.max(out, 1)\n",
    "        total += label.size(0)\n",
    "        correct += (pred == label).sum().item()\n",
    "\n",
    "100*correct/total"
   ]
  },
  {
   "cell_type": "code",
   "execution_count": null,
   "metadata": {},
   "outputs": [],
   "source": []
  }
 ],
 "metadata": {
  "interpreter": {
   "hash": "31f2aee4e71d21fbe5cf8b01ff0e069b9275f58929596ceb00d14d90e3e16cd6"
  },
  "kernelspec": {
   "display_name": "Python 3.8.10 64-bit",
   "name": "python3"
  },
  "language_info": {
   "codemirror_mode": {
    "name": "ipython",
    "version": 3
   },
   "file_extension": ".py",
   "mimetype": "text/x-python",
   "name": "python",
   "nbconvert_exporter": "python",
   "pygments_lexer": "ipython3",
   "version": "3.8.10"
  },
  "orig_nbformat": 4
 },
 "nbformat": 4,
 "nbformat_minor": 2
}
