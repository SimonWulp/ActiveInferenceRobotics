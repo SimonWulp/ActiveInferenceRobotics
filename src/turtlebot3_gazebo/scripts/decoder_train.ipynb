{
 "cells": [
  {
   "cell_type": "code",
   "execution_count": 5,
   "metadata": {},
   "outputs": [],
   "source": [
    "import torch\n",
    "from squeeze_pose_net import SqueezePoseNet\n",
    "from torch.utils.data import DataLoader, TensorDataset\n",
    "from torch.optim.lr_scheduler import StepLR\n",
    "import matplotlib.pyplot as plt\n",
    "import torch.optim as optim\n",
    "import numpy as np\n",
    "import pickle"
   ]
  },
  {
   "cell_type": "code",
   "execution_count": 6,
   "metadata": {},
   "outputs": [],
   "source": [
    "# data preperation\n",
    "batch_size = 40\n",
    "train_test_ratio = 0.85\n",
    "\n",
    "with open(\"/home/simon/catkin_ws/src/turtlebot3_gazebo/scripts/data/outside_rotation_256_rgb8.pkl\", 'rb') as f:\n",
    "    data = pickle.load(f)\n",
    "\n",
    "pose, rng, img = data\n",
    "\n",
    "ratio_id = int(data[0].shape[0] * train_test_ratio)\n",
    "\n",
    "train_pose = pose[:ratio_id]\n",
    "train_img = img[:ratio_id]\n",
    "test_pose = pose[ratio_id:]\n",
    "test_img = img[ratio_id:]\n",
    "\n",
    "train_set = TensorDataset(torch.from_numpy(train_img).float(), torch.from_numpy(train_pose).float())\n",
    "test_set = TensorDataset(torch.from_numpy(test_img).float(), torch.from_numpy(test_pose).float())\n",
    "\n",
    "train_loader = DataLoader(train_set, batch_size=batch_size, shuffle=True)\n",
    "test_loader = DataLoader(test_set, batch_size=10, shuffle=False)"
   ]
  },
  {
   "cell_type": "code",
   "execution_count": 7,
   "metadata": {},
   "outputs": [
    {
     "name": "stdout",
     "output_type": "stream",
     "text": [
      "Device:  cuda\n"
     ]
    },
    {
     "data": {
      "text/plain": [
       "<All keys matched successfully>"
      ]
     },
     "execution_count": 7,
     "metadata": {},
     "output_type": "execute_result"
    }
   ],
   "source": [
    "device = 'cuda' if torch.cuda.is_available() else 'cpu'\n",
    "torch.cuda.empty_cache()\n",
    "print('Device: ', device)\n",
    "\n",
    "epochs = 1000\n",
    "\n",
    "net = SqueezePoseNet()\n",
    "\n",
    "net_state = net.state_dict()\n",
    "\n",
    "pretrained_net = torch.load('/home/simon/catkin_ws/src/turtlebot3_gazebo/scripts/data/squeezenet_weights.pth')\n",
    "net_state.update(pretrained_net)\n",
    "net.load_state_dict(net_state)"
   ]
  },
  {
   "cell_type": "code",
   "execution_count": 9,
   "metadata": {},
   "outputs": [
    {
     "name": "stdout",
     "output_type": "stream",
     "text": [
      "------ Epoch  0\n",
      "Epoch loss: 5773.58927154541\n",
      "------ Epoch  10\n",
      "Epoch loss: 5776.84610748291\n",
      "------ Epoch  20\n",
      "Epoch loss: 5764.072334289551\n",
      "------ Epoch  30\n",
      "Epoch loss: 5779.573188781738\n"
     ]
    }
   ],
   "source": [
    "net.to(device)\n",
    "optimizer = optim.Adam(net.parameters(), lr=0.001)\n",
    "scheduler = StepLR(optimizer, step_size=20, gamma=0.95)\n",
    "beta = 500\n",
    "\n",
    "def pq_loss(output: torch.Tensor, target: torch.Tensor) -> torch.Tensor:\n",
    "    assert output.shape == target.shape, \"Output and target are not of equal shape\"\n",
    "    output_x = output[:, :2]\n",
    "    target_x = target[:, :2]\n",
    "    output_q = output[:, 2]\n",
    "    target_q = target[:, 2]\n",
    "    loss = torch.linalg.norm(target_x - output_x, ord=2) + 500 * torch.linalg.norm(target_q - output_q / torch.linalg.norm(output_q, ord=2), ord=2)\n",
    "    return loss\n",
    "\n",
    "criterion = pq_loss\n",
    "\n",
    "epoch_losses = []\n",
    "total_losses = []\n",
    "test_losses = []\n",
    "\n",
    "for epoch in range(epochs):\n",
    "    net.train()\n",
    "    batch_loss = []\n",
    "    for i, (img, pose) in enumerate(train_loader):\n",
    "        img = img.to(device)\n",
    "        pose = pose.to(device)\n",
    "\n",
    "        optimizer.zero_grad()  # zero the gradient buffers\n",
    "        output = net(img)\n",
    "        loss = criterion(output, pose)\n",
    "        loss.backward()\n",
    "        optimizer.step()  # Does the update\n",
    "        loss = loss.item()\n",
    "\n",
    "        total_losses.append(loss)\n",
    "        batch_loss.append(loss)\n",
    "\n",
    "    scheduler.step()\n",
    "\n",
    "    epoch_losses.append(np.mean(batch_loss))\n",
    "    \n",
    "    if epoch%10==0:\n",
    "        for i, (img, pose) in enumerate(test_loader):\n",
    "            img = img.to(device)\n",
    "            pose = pose.to(device)\n",
    "\n",
    "            optimizer.zero_grad()  # zero the gradient buffers\n",
    "            output = net(img)\n",
    "            loss = criterion(output, pose)\n",
    "            loss = loss.item()\n",
    "\n",
    "            test_losses.append(loss)\n",
    "\n",
    "        print('------ Epoch ', epoch)\n",
    "        print('Epoch loss:', epoch_losses[-1])\n",
    "        # print('Val loss:', val_loss[-1])\n",
    "        torch.save(net.state_dict(), \"SPN2.pt\")"
   ]
  },
  {
   "cell_type": "code",
   "execution_count": null,
   "metadata": {},
   "outputs": [
    {
     "data": {
      "text/plain": [
       "[<matplotlib.lines.Line2D at 0x7f9896787d60>]"
      ]
     },
     "execution_count": 15,
     "metadata": {},
     "output_type": "execute_result"
    },
    {
     "data": {
      "image/png": "[encoded data removed]",
      "text/plain": [
       "<Figure size 432x288 with 1 Axes>"
      ]
     },
     "metadata": {
      "needs_background": "light"
     },
     "output_type": "display_data"
    }
   ],
   "source": [
    "plt.plot(range(len(epoch_losses)), epoch_losses)"
   ]
  },
  {
   "cell_type": "code",
   "execution_count": null,
   "metadata": {},
   "outputs": [
    {
     "ename": "TypeError",
     "evalue": "unsupported operand type(s) for -: 'numpy.ndarray' and 'Tensor'",
     "output_type": "error",
     "traceback": [
      "\u001b[0;31m---------------------------------------------------------------------------\u001b[0m",
      "\u001b[0;31mTypeError\u001b[0m                                 Traceback (most recent call last)",
      "\u001b[0;32m<ipython-input-21-2bce6c0aa554>\u001b[0m in \u001b[0;36m<module>\u001b[0;34m\u001b[0m\n\u001b[1;32m     23\u001b[0m     \u001b[0;32mreturn\u001b[0m \u001b[0mpositions\u001b[0m\u001b[0;34m\u001b[0m\u001b[0;34m\u001b[0m\u001b[0m\n\u001b[1;32m     24\u001b[0m \u001b[0;34m\u001b[0m\u001b[0m\n\u001b[0;32m---> 25\u001b[0;31m \u001b[0mtrain_pose\u001b[0m \u001b[0;34m=\u001b[0m \u001b[0mnormalize_pos\u001b[0m\u001b[0;34m(\u001b[0m\u001b[0mtrain_pose\u001b[0m\u001b[0;34m)\u001b[0m\u001b[0;34m\u001b[0m\u001b[0;34m\u001b[0m\u001b[0m\n\u001b[0m\u001b[1;32m     26\u001b[0m \u001b[0mtrain_rng\u001b[0m \u001b[0;34m=\u001b[0m \u001b[0mnormalize_ranges\u001b[0m\u001b[0;34m(\u001b[0m\u001b[0mtrain_rng\u001b[0m\u001b[0;34m)\u001b[0m\u001b[0;34m\u001b[0m\u001b[0;34m\u001b[0m\u001b[0m\n\u001b[1;32m     27\u001b[0m \u001b[0mtest_pose\u001b[0m \u001b[0;34m=\u001b[0m \u001b[0mnormalize_pos\u001b[0m\u001b[0;34m(\u001b[0m\u001b[0mtest_pose\u001b[0m\u001b[0;34m)\u001b[0m\u001b[0;34m\u001b[0m\u001b[0;34m\u001b[0m\u001b[0m\n",
      "\u001b[0;32m<ipython-input-21-2bce6c0aa554>\u001b[0m in \u001b[0;36mnormalize_pos\u001b[0;34m(positions)\u001b[0m\n\u001b[1;32m      9\u001b[0m \u001b[0;34m\u001b[0m\u001b[0m\n\u001b[1;32m     10\u001b[0m \u001b[0;32mdef\u001b[0m \u001b[0mnormalize_pos\u001b[0m\u001b[0;34m(\u001b[0m\u001b[0mpositions\u001b[0m\u001b[0;34m)\u001b[0m\u001b[0;34m:\u001b[0m\u001b[0;34m\u001b[0m\u001b[0;34m\u001b[0m\u001b[0m\n\u001b[0;32m---> 11\u001b[0;31m     \u001b[0mpositions\u001b[0m\u001b[0;34m[\u001b[0m\u001b[0;34m:\u001b[0m\u001b[0;34m,\u001b[0m \u001b[0;36m0\u001b[0m\u001b[0;34m]\u001b[0m \u001b[0;34m=\u001b[0m \u001b[0;34m(\u001b[0m\u001b[0mpositions\u001b[0m\u001b[0;34m[\u001b[0m\u001b[0;34m:\u001b[0m\u001b[0;34m,\u001b[0m \u001b[0;36m0\u001b[0m\u001b[0;34m]\u001b[0m \u001b[0;34m-\u001b[0m \u001b[0mpose_min\u001b[0m\u001b[0;34m[\u001b[0m\u001b[0;36m0\u001b[0m\u001b[0;34m]\u001b[0m\u001b[0;34m)\u001b[0m \u001b[0;34m/\u001b[0m \u001b[0;34m(\u001b[0m\u001b[0mpose_max\u001b[0m\u001b[0;34m[\u001b[0m\u001b[0;36m0\u001b[0m\u001b[0;34m]\u001b[0m \u001b[0;34m-\u001b[0m \u001b[0mpose_min\u001b[0m\u001b[0;34m[\u001b[0m\u001b[0;36m0\u001b[0m\u001b[0;34m]\u001b[0m\u001b[0;34m)\u001b[0m\u001b[0;34m\u001b[0m\u001b[0;34m\u001b[0m\u001b[0m\n\u001b[0m\u001b[1;32m     12\u001b[0m     \u001b[0mpositions\u001b[0m\u001b[0;34m[\u001b[0m\u001b[0;34m:\u001b[0m\u001b[0;34m,\u001b[0m \u001b[0;36m1\u001b[0m\u001b[0;34m]\u001b[0m \u001b[0;34m=\u001b[0m \u001b[0;34m(\u001b[0m\u001b[0mpositions\u001b[0m\u001b[0;34m[\u001b[0m\u001b[0;34m:\u001b[0m\u001b[0;34m,\u001b[0m \u001b[0;36m1\u001b[0m\u001b[0;34m]\u001b[0m \u001b[0;34m-\u001b[0m \u001b[0mpose_min\u001b[0m\u001b[0;34m[\u001b[0m\u001b[0;36m1\u001b[0m\u001b[0;34m]\u001b[0m\u001b[0;34m)\u001b[0m \u001b[0;34m/\u001b[0m \u001b[0;34m(\u001b[0m\u001b[0mpose_max\u001b[0m\u001b[0;34m[\u001b[0m\u001b[0;36m1\u001b[0m\u001b[0;34m]\u001b[0m \u001b[0;34m-\u001b[0m \u001b[0mpose_min\u001b[0m\u001b[0;34m[\u001b[0m\u001b[0;36m1\u001b[0m\u001b[0;34m]\u001b[0m\u001b[0;34m)\u001b[0m\u001b[0;34m\u001b[0m\u001b[0;34m\u001b[0m\u001b[0m\n\u001b[1;32m     13\u001b[0m     \u001b[0;31m# positions[:, 2] = (positions[:, 2] - pose_min[2]) / (pose_max[2] - pose_min[2])\u001b[0m\u001b[0;34m\u001b[0m\u001b[0;34m\u001b[0m\u001b[0;34m\u001b[0m\u001b[0m\n",
      "\u001b[0;31mTypeError\u001b[0m: unsupported operand type(s) for -: 'numpy.ndarray' and 'Tensor'"
     ]
    }
   ],
   "source": [
    "ranges_max = rng.max()\n",
    "ranges_min = rng.min()\n",
    "pose_max = [pose[:, 0].max(), pose[:, 1].max()]\n",
    "pose_min = [pose[:, 0].min(), pose[:, 1].min()]\n",
    "\n",
    "def normalize_ranges(ranges_matrix):\n",
    "    ranges_matrix = (ranges_matrix - ranges_min) / (ranges_max - ranges_min)\n",
    "    return ranges_matrix\n",
    "    \n",
    "def normalize_pos(positions):\n",
    "    positions[:, 0] = (positions[:, 0] - pose_min[0]) / (pose_max[0] - pose_min[0])\n",
    "    positions[:, 1] = (positions[:, 1] - pose_min[1]) / (pose_max[1] - pose_min[1])\n",
    "    # positions[:, 2] = (positions[:, 2] - pose_min[2]) / (pose_max[2] - pose_min[2])\n",
    "    return positions\n",
    "\n",
    "def unormalize_ranges(ranges):\n",
    "    return ranges * (ranges_max - ranges_min) + ranges_min\n",
    "\n",
    "def unnormalize_pos(positions):\n",
    "    positions[:, 0] = positions[:, 0] * (pose_max[0] - pose_min[0]) + pose_min[0]\n",
    "    positions[:, 1] = positions[:, 1] * (pose_max[1] - pose_min[1]) + pose_min[1]\n",
    "    positions[:, 2] = positions[:, 2] * (pose_max[2] - pose_min[2]) + pose_min[2]\n",
    "    return positions\n",
    "\n",
    "train_pose = normalize_pos(train_pose)\n",
    "train_rng = normalize_ranges(train_rng)\n",
    "test_pose = normalize_pos(test_pose)\n",
    "test_rng = normalize_ranges(test_rng)\n",
    "\n",
    "# Visualizing normalized data\n",
    "fig, axs = plt.subplots(2)\n",
    "fig.set_figheight(15)\n",
    "\n",
    "axs[0].set_title('Sample points ({length})'.format(length=len(pose)))\n",
    "axs[0].scatter(pose[:, 0], pose[:, 1], s=3)\n",
    "\n",
    "axs[1].set_title('Ranges distribution')\n",
    "axs[1].hist(np.concatenate(train_rng).ravel(), bins=100)\n",
    "\n",
    "plt.show()\n"
   ]
  },
  {
   "cell_type": "code",
   "execution_count": null,
   "metadata": {},
   "outputs": [],
   "source": []
  }
 ],
 "metadata": {
  "interpreter": {
   "hash": "31f2aee4e71d21fbe5cf8b01ff0e069b9275f58929596ceb00d14d90e3e16cd6"
  },
  "kernelspec": {
   "display_name": "Python 3.8.10 64-bit",
   "language": "python",
   "name": "python3"
  },
  "language_info": {
   "codemirror_mode": {
    "name": "ipython",
    "version": 3
   },
   "file_extension": ".py",
   "mimetype": "text/x-python",
   "name": "python",
   "nbconvert_exporter": "python",
   "pygments_lexer": "ipython3",
   "version": "3.8.10"
  },
  "orig_nbformat": 4
 },
 "nbformat": 4,
 "nbformat_minor": 2
}
