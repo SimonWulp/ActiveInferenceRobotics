{
 "cells": [
  {
   "cell_type": "code",
   "execution_count": 1,
   "metadata": {},
   "outputs": [],
   "source": [
    "from nets import ConvDecoder, Classifier\n",
    "from fep import FEP\n",
    "import torch\n",
    "import pickle\n",
    "import random\n",
    "import matplotlib.pyplot as plt\n",
    "import numpy as np\n",
    "from scipy.interpolate import interp2d"
   ]
  },
  {
   "cell_type": "code",
   "execution_count": 2,
   "metadata": {},
   "outputs": [],
   "source": [
    "def norm_pose(pose):\n",
    "    x = (pose[0] + 8) / (8 + 8)\n",
    "    y = (pose[1] + 8) / (8 + 8)\n",
    "\n",
    "    return [x, y]\n",
    "\n",
    "def unnorm_pose(pose):\n",
    "    x = pose[0] * (8 + 8) - 8\n",
    "    y = pose[1] * (8 + 8) - 8\n",
    "\n",
    "    return [x, y]"
   ]
  },
  {
   "cell_type": "code",
   "execution_count": 5,
   "metadata": {},
   "outputs": [
    {
     "data": {
      "text/plain": [
       "Classifier(\n",
       "  (conv1): Conv2d(3, 6, kernel_size=(5, 5), stride=(1, 1))\n",
       "  (conv2): Conv2d(6, 12, kernel_size=(5, 5), stride=(1, 1))\n",
       "  (conv3): Conv2d(12, 18, kernel_size=(5, 5), stride=(1, 1))\n",
       "  (pool): MaxPool2d(kernel_size=2, stride=2, padding=0, dilation=1, ceil_mode=False)\n",
       "  (fc1): Linear(in_features=648, out_features=128, bias=True)\n",
       "  (fc2): Linear(in_features=128, out_features=64, bias=True)\n",
       "  (fc3): Linear(in_features=64, out_features=2, bias=True)\n",
       ")"
      ]
     },
     "execution_count": 5,
     "metadata": {},
     "output_type": "execute_result"
    }
   ],
   "source": [
    "decoder1 = ConvDecoder()\n",
    "decoder1.cpu()\n",
    "decoder1.load_state_dict(torch.load(\"/home/simon/catkin_ws/src/turtlebot3_gazebo/scripts/trained_conv_nets/deconv_shapes_fixed_2_200e_USE.pt\"))\n",
    "decoder1.eval()\n",
    "\n",
    "decoder2 = ConvDecoder()\n",
    "decoder2.cpu()\n",
    "decoder2.load_state_dict(torch.load(\"/home/simon/catkin_ws/src/turtlebot3_gazebo/scripts/trained_conv_nets/deconv_shapes_dif_fixed_1_200e_USE.pt\"))\n",
    "decoder2.eval()\n",
    "ls_decoders = [decoder1, decoder2]\n",
    "\n",
    "classifier = Classifier()\n",
    "classifier.cpu()\n",
    "classifier.load_state_dict(torch.load(\"/home/simon/catkin_ws/src/turtlebot3_gazebo/scripts/trained_conv_nets/context_classifier_3_100e_USE.pt\"))\n",
    "classifier.eval()"
   ]
  },
  {
   "cell_type": "code",
   "execution_count": 15,
   "metadata": {},
   "outputs": [
    {
     "name": "stdout",
     "output_type": "stream",
     "text": [
      "0\n",
      "1\n",
      "2\n",
      "3\n",
      "4\n",
      "5\n",
      "6\n",
      "7\n",
      "8\n",
      "9\n"
     ]
    }
   ],
   "source": [
    "with open(\"/home/simon/catkin_ws/src/turtlebot3_gazebo/scripts/data/shapes_random_samples_100.pkl\", 'rb') as f:\n",
    "    pose_samples, img_samples = pickle.load(f)\n",
    "\n",
    "error_histories = np.empty((1, 100))\n",
    "\n",
    "dist_histories = np.empty((1,2))\n",
    "\n",
    "lim = 8\n",
    "\n",
    "for i in range(10):\n",
    "    for j in range(10):\n",
    "        fep = FEP(ls_decoders, classifier, active_inference=False, context_aware=True)\n",
    "        fep.sigma_o = 1*1e3\n",
    "\n",
    "        sample_idx = random.randint(0, img_samples.shape[0]-1)\n",
    "        true_state = pose_samples[sample_idx]\n",
    "        observation = decoder1.forward(torch.tensor(true_state, dtype=torch.float)).squeeze().detach().numpy()\n",
    "\n",
    "        x = np.round(np.random.uniform(-lim, lim), 3)\n",
    "        y = np.round(np.random.uniform(-lim, lim), 3)\n",
    "        start_belief_norm = norm_pose([x, y])\n",
    "\n",
    "\n",
    "        path = fep.run(start_belief_norm, observation, 100)\n",
    "        final_belief = path[-1]\n",
    "        final_belief_unnorm = unnorm_pose(final_belief)\n",
    "\n",
    "        path_unnorm = np.array([unnorm_pose(x) for x in path])\n",
    "        true_state_unnorm = unnorm_pose(true_state)\n",
    "\n",
    "        real_dist = np.sqrt((x - true_state_unnorm[0]) ** 2 + (y - true_state_unnorm[1]) ** 2)\n",
    "        end_error = np.sqrt((final_belief_unnorm[0] - true_state_unnorm[0]) ** 2 + (final_belief_unnorm[1] - true_state_unnorm[1]) ** 2)\n",
    "\n",
    "        dists = np.array([[real_dist, end_error]])\n",
    "\n",
    "        dist_histories = np.concatenate((dist_histories, dists), 0)\n",
    "\n",
    "\n",
    "        # error_per_step = np.array([[np.sqrt((true_state_unnorm[0] - x[0]) ** 2 + (true_state_unnorm[1] - x[1]) ** 2) for x in path_unnorm]])\n",
    "\n",
    "        # error_histories = np.concatenate((error_histories, error_per_step), 0)\n",
    "\n",
    "    print(i)"
   ]
  },
  {
   "cell_type": "code",
   "execution_count": 19,
   "metadata": {},
   "outputs": [
    {
     "data": {
      "image/png": "[encoded data removed]",
      "text/plain": [
       "<Figure size 432x288 with 1 Axes>"
      ]
     },
     "metadata": {
      "needs_background": "light"
     },
     "output_type": "display_data"
    }
   ],
   "source": [
    "dist_histories = dist_histories[1:]\n",
    "ls_sorted = sorted(dist_histories, key=lambda x: x[0])\n",
    "ls_sorted = np.array(ls_sorted)\n",
    "\n",
    "plt.figure(figsize=(6,4))\n",
    "plt.xlabel('Error at step 1')\n",
    "plt.ylabel('Error at step 100')\n",
    "plt.scatter(ls_sorted[:, 0], ls_sorted[:, 1])\n",
    "\n",
    "z = np.polyfit(ls_sorted[:, 0], ls_sorted[:, 1], 3)\n",
    "p = np.poly1d(z)\n",
    "plt.plot(ls_sorted[:, 0],p(ls_sorted[:, 0]),\"r--\")\n",
    "plt.show()"
   ]
  },
  {
   "cell_type": "code",
   "execution_count": 305,
   "metadata": {},
   "outputs": [],
   "source": [
    "# avg_4 = np.mean(error_histories, 0)\n",
    "# std_4 = np.std(error_histories, 0)"
   ]
  },
  {
   "cell_type": "code",
   "execution_count": null,
   "metadata": {},
   "outputs": [],
   "source": [
    "# avg_8 = np.mean(error_histories, 0)\n",
    "# std_8 = np.std(error_histories, 0)"
   ]
  },
  {
   "cell_type": "code",
   "execution_count": 345,
   "metadata": {},
   "outputs": [
    {
     "data": {
      "image/png": "[encoded data removed]",
      "text/plain": [
       "<Figure size 432x288 with 1 Axes>"
      ]
     },
     "metadata": {
      "needs_background": "light"
     },
     "output_type": "display_data"
    }
   ],
   "source": [
    "plt.figure(figsize=(6,4))\n",
    "plt.xlabel('Step')\n",
    "plt.ylabel('Error')\n",
    "\n",
    "lower_8 = avg_8 - std_8\n",
    "upper_8 = avg_8 + std_8\n",
    "\n",
    "plt.plot(avg_8, label='lim = 8')\n",
    "plt.fill_between(range(100), lower_8, upper_8, alpha=0.2)\n",
    "plt.plot(avg_4, label='lim = 4')\n",
    "plt.fill_between(range(100), lower_4, upper_4, alpha=0.2)\n",
    "\n",
    "\n",
    "plt.legend()\n",
    "\n",
    "plt.show()"
   ]
  }
 ],
 "metadata": {
  "interpreter": {
   "hash": "31f2aee4e71d21fbe5cf8b01ff0e069b9275f58929596ceb00d14d90e3e16cd6"
  },
  "kernelspec": {
   "display_name": "Python 3.8.10 64-bit",
   "language": "python",
   "name": "python3"
  },
  "language_info": {
   "codemirror_mode": {
    "name": "ipython",
    "version": 3
   },
   "file_extension": ".py",
   "mimetype": "text/x-python",
   "name": "python",
   "nbconvert_exporter": "python",
   "pygments_lexer": "ipython3",
   "version": "3.8.10"
  },
  "orig_nbformat": 4
 },
 "nbformat": 4,
 "nbformat_minor": 2
}
